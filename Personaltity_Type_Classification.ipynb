{
  "nbformat": 4,
  "nbformat_minor": 0,
  "metadata": {
    "colab": {
      "name": "Personaltity Type Classification.ipynb",
      "provenance": [],
      "collapsed_sections": []
    },
    "kernelspec": {
      "name": "python3",
      "display_name": "Python 3"
    },
    "accelerator": "GPU"
  },
  "cells": [
    {
      "cell_type": "code",
      "metadata": {
        "id": "PCfw8MJ0tUfC",
        "colab": {
          "base_uri": "https://localhost:8080/",
          "height": 224
        },
        "outputId": "7b3c7c8f-d9e4-40d8-aed3-d71bcc2fb89d"
      },
      "source": [
        "#Downloading the Dataset\n",
        "!wget --no-check-certificate \\\n",
        "      \"https://storage.googleapis.com/kaggle-datasets/2637/4381/mbti_1.csv.zip?GoogleAccessId=web-data@kaggle-161607.iam.gserviceaccount.com&Expires=1561827680&Signature=FuZVxTRJq8XHy3Zs2m7Khiac2S2SuYLxNd8fTgqmpFqGqlwwQrQEnBk4bamd6CA1cTSToRFwn8bAqPEatCbaSBmqdSX7K3FcTUid9LEkwQZNq7Yxj0NcV3trg%2FXPMXbtvwhK34wq2UgDmH0hXyOo8kcha6t%2Fc1p87jajs%2BYqJT4NLdbBxlY4n%2FOsZTkfP3%2FNBuBXDdTIjR%2BKeKRLTz4LDB%2BItuMImn%2BNHavJv%2Fw0u1mYg5yrS%2FV2JM%2F%2FHVDbApthmEo5awR5U1H2VwEe6NZNKEaHLz21wVNt3WC0OTHdF7ggAv6X4DQzymh2xhkvsuh0c5HTdJKfwGKwYDTZb14X7w%3D%3D\"\\\n",
        "      -O \"/tmp/mbti.zip\""
      ],
      "execution_count": null,
      "outputs": [
        {
          "output_type": "stream",
          "text": [
            "--2019-06-27 13:32:23--  https://storage.googleapis.com/kaggle-datasets/2637/4381/mbti_1.csv.zip?GoogleAccessId=web-data@kaggle-161607.iam.gserviceaccount.com&Expires=1561827680&Signature=FuZVxTRJq8XHy3Zs2m7Khiac2S2SuYLxNd8fTgqmpFqGqlwwQrQEnBk4bamd6CA1cTSToRFwn8bAqPEatCbaSBmqdSX7K3FcTUid9LEkwQZNq7Yxj0NcV3trg%2FXPMXbtvwhK34wq2UgDmH0hXyOo8kcha6t%2Fc1p87jajs%2BYqJT4NLdbBxlY4n%2FOsZTkfP3%2FNBuBXDdTIjR%2BKeKRLTz4LDB%2BItuMImn%2BNHavJv%2Fw0u1mYg5yrS%2FV2JM%2F%2FHVDbApthmEo5awR5U1H2VwEe6NZNKEaHLz21wVNt3WC0OTHdF7ggAv6X4DQzymh2xhkvsuh0c5HTdJKfwGKwYDTZb14X7w%3D%3D\n",
            "Resolving storage.googleapis.com (storage.googleapis.com)... 74.125.141.128, 2607:f8b0:400c:c06::80\n",
            "Connecting to storage.googleapis.com (storage.googleapis.com)|74.125.141.128|:443... connected.\n",
            "HTTP request sent, awaiting response... 200 OK\n",
            "Length: 26387746 (25M) [application/octet-stream]\n",
            "Saving to: ‘/tmp/mbti.zip’\n",
            "\n",
            "\r/tmp/mbti.zip         0%[                    ]       0  --.-KB/s               \r/tmp/mbti.zip        31%[=====>              ]   8.01M  32.3MB/s               \r/tmp/mbti.zip       100%[===================>]  25.17M  76.0MB/s    in 0.3s    \n",
            "\n",
            "2019-06-27 13:32:24 (76.0 MB/s) - ‘/tmp/mbti.zip’ saved [26387746/26387746]\n",
            "\n"
          ],
          "name": "stdout"
        }
      ]
    },
    {
      "cell_type": "code",
      "metadata": {
        "id": "QiADnlaUwP_S"
      },
      "source": [
        "# Unzipping the downloaded dataset\n",
        "import os\n",
        "import zipfile\n",
        "\n",
        "local_zip='/tmp/mbti.zip'\n",
        "zip_ref=zipfile.ZipFile(local_zip,'r')\n",
        "zip_ref.extractall('/tmp/mbti')\n",
        "zip_ref.close()"
      ],
      "execution_count": null,
      "outputs": []
    },
    {
      "cell_type": "code",
      "metadata": {
        "id": "a__1RtaSznsT",
        "colab": {
          "base_uri": "https://localhost:8080/",
          "height": 85
        },
        "outputId": "416f9f74-3e3f-4d3b-e727-8c9b8408fb58"
      },
      "source": [
        "#Functions for Preprocessing the Dataset\n",
        "import nltk\n",
        "from nltk import word_tokenize\n",
        "nltk.download('stopwords')\n",
        "from nltk.corpus import stopwords\n",
        "nltk.download('punkt')\n",
        "stop_words = set(stopwords.words('english'))\n",
        "\n",
        "\n",
        "def mystopwords(text):\n",
        "    return ' '.join([w for w in word_tokenize(text) if not w in stop_words])\n",
        "\n",
        "import re\n",
        "def clean_text(string):\n",
        "  clean=re.sub(r'\\w+:\\/{2}[\\d\\w-]+(\\.[\\d\\w-]+)*(?:(?:\\/[^\\s/]*))*', ' ',string) #remove url\n",
        "  clean=re.sub('[\\n]',' ',clean) #remove newline character\n",
        "  clean=re.sub('[^a-zA-Z]',' ',clean.lower()) #remove non alphabetic characters\n",
        "  clean=mystopwords(clean) #remove stopwords\n",
        "  return clean"
      ],
      "execution_count": null,
      "outputs": [
        {
          "output_type": "stream",
          "text": [
            "[nltk_data] Downloading package stopwords to /root/nltk_data...\n",
            "[nltk_data]   Unzipping corpora/stopwords.zip.\n",
            "[nltk_data] Downloading package punkt to /root/nltk_data...\n",
            "[nltk_data]   Unzipping tokenizers/punkt.zip.\n"
          ],
          "name": "stdout"
        }
      ]
    },
    {
      "cell_type": "code",
      "metadata": {
        "id": "vXT6zF-mva2y"
      },
      "source": [
        "#Loading the Dataset\n",
        "import pandas as pd\n",
        "df=pd.read_csv('/tmp/mbti/mbti_1.csv')"
      ],
      "execution_count": null,
      "outputs": []
    },
    {
      "cell_type": "code",
      "metadata": {
        "id": "W82lASgKwh2x",
        "colab": {
          "base_uri": "https://localhost:8080/",
          "height": 204
        },
        "outputId": "67d006bc-6b38-4e46-c745-45a66e37397b"
      },
      "source": [
        "df.head(5)"
      ],
      "execution_count": null,
      "outputs": [
        {
          "output_type": "execute_result",
          "data": {
            "text/html": [
              "<div>\n",
              "<style scoped>\n",
              "    .dataframe tbody tr th:only-of-type {\n",
              "        vertical-align: middle;\n",
              "    }\n",
              "\n",
              "    .dataframe tbody tr th {\n",
              "        vertical-align: top;\n",
              "    }\n",
              "\n",
              "    .dataframe thead th {\n",
              "        text-align: right;\n",
              "    }\n",
              "</style>\n",
              "<table border=\"1\" class=\"dataframe\">\n",
              "  <thead>\n",
              "    <tr style=\"text-align: right;\">\n",
              "      <th></th>\n",
              "      <th>type</th>\n",
              "      <th>posts</th>\n",
              "    </tr>\n",
              "  </thead>\n",
              "  <tbody>\n",
              "    <tr>\n",
              "      <th>0</th>\n",
              "      <td>INFJ</td>\n",
              "      <td>'http://www.youtube.com/watch?v=qsXHcwe3krw|||...</td>\n",
              "    </tr>\n",
              "    <tr>\n",
              "      <th>1</th>\n",
              "      <td>ENTP</td>\n",
              "      <td>'I'm finding the lack of me in these posts ver...</td>\n",
              "    </tr>\n",
              "    <tr>\n",
              "      <th>2</th>\n",
              "      <td>INTP</td>\n",
              "      <td>'Good one  _____   https://www.youtube.com/wat...</td>\n",
              "    </tr>\n",
              "    <tr>\n",
              "      <th>3</th>\n",
              "      <td>INTJ</td>\n",
              "      <td>'Dear INTP,   I enjoyed our conversation the o...</td>\n",
              "    </tr>\n",
              "    <tr>\n",
              "      <th>4</th>\n",
              "      <td>ENTJ</td>\n",
              "      <td>'You're fired.|||That's another silly misconce...</td>\n",
              "    </tr>\n",
              "  </tbody>\n",
              "</table>\n",
              "</div>"
            ],
            "text/plain": [
              "   type                                              posts\n",
              "0  INFJ  'http://www.youtube.com/watch?v=qsXHcwe3krw|||...\n",
              "1  ENTP  'I'm finding the lack of me in these posts ver...\n",
              "2  INTP  'Good one  _____   https://www.youtube.com/wat...\n",
              "3  INTJ  'Dear INTP,   I enjoyed our conversation the o...\n",
              "4  ENTJ  'You're fired.|||That's another silly misconce..."
            ]
          },
          "metadata": {
            "tags": []
          },
          "execution_count": 5
        }
      ]
    },
    {
      "cell_type": "code",
      "metadata": {
        "id": "TECAhKU3w02p"
      },
      "source": [
        "#Cleaning the data \n",
        "data=[]\n",
        "for i in range(len(df)):\n",
        "  l=[]\n",
        "  l.append(df['type'][i])\n",
        "  l.append(clean_text(df['posts'][i]))\n",
        "  data.append(l)"
      ],
      "execution_count": null,
      "outputs": []
    },
    {
      "cell_type": "code",
      "metadata": {
        "id": "_0CxUCsz1A59"
      },
      "source": [
        "#Suffling the data and splitting the data into train and test sets (90:10)\n",
        "import random\n",
        "suffled_set=random.sample(data,len(data))\n",
        "train_len=int(len(suffled_set)*0.9)\n",
        "train=suffled_set[:train_len]\n",
        "test=suffled_set[train_len:]"
      ],
      "execution_count": null,
      "outputs": []
    },
    {
      "cell_type": "code",
      "metadata": {
        "id": "YZIXodSq86M6",
        "colab": {
          "base_uri": "https://localhost:8080/",
          "height": 85
        },
        "outputId": "e98f9edb-5c1f-4d94-8c0d-bcc04a288ca1"
      },
      "source": [
        "#Data Summary\n",
        "print('Length of the Data: ',len(df))\n",
        "print('No. of Training Examples: ',len(train))\n",
        "print('No. of Test Examples: ',len(test))\n",
        "print('No. of Classes: ',df['type'].nunique())"
      ],
      "execution_count": null,
      "outputs": [
        {
          "output_type": "stream",
          "text": [
            "Length of the Data:  8675\n",
            "No. of Training Examples:  7807\n",
            "No. of Test Examples:  868\n",
            "No. of Classes:  16\n"
          ],
          "name": "stdout"
        }
      ]
    },
    {
      "cell_type": "code",
      "metadata": {
        "id": "ype7kRVR4Jye"
      },
      "source": [
        "#Separating the personality types (labels) and the posts\n",
        "train_sentences=[]\n",
        "test_sentences=[]\n",
        "train_labels=[]\n",
        "test_labels=[]\n",
        "labels=[]\n",
        "sentences=[]\n",
        "\n",
        "for i in range(len(train)):\n",
        "  train_labels.append(train[i][0])\n",
        "  train_sentences.append(train[i][1])\n",
        "\n",
        "for i in range(len(test)):\n",
        "  test_labels.append(test[i][0])\n",
        "  test_sentences.append(test[i][1])\n",
        "\n",
        "for i in range(len(suffled_set)):\n",
        "  labels.append(suffled_set[i][0])\n",
        "  sentences.append(suffled_set[i][1])"
      ],
      "execution_count": null,
      "outputs": []
    },
    {
      "cell_type": "code",
      "metadata": {
        "id": "8ZDit0Jn4zo5",
        "colab": {
          "base_uri": "https://localhost:8080/",
          "height": 139
        },
        "outputId": "2cd02cae-843d-4446-fbe4-06b019458055"
      },
      "source": [
        "#Tokenization and Padding\n",
        "import tensorflow as tf\n",
        "import numpy as np\n",
        "\n",
        "from tensorflow.keras.preprocessing.text import Tokenizer\n",
        "from tensorflow.keras.preprocessing.sequence import pad_sequences\n",
        "from tensorflow.keras.utils import to_categorical\n",
        "from tensorflow.keras import regularizers\n",
        "\n",
        "embedding_dim = 300\n",
        "max_length = 900\n",
        "trunc_type='post'\n",
        "padding_type='post'\n",
        "oov_tok = \"<OOV>\"\n",
        "vocab_len=19999\n",
        "\n",
        "\n",
        "tokenizer = Tokenizer(num_words=vocab_len+1,oov_token=oov_tok)\n",
        "tokenizer.fit_on_texts(sentences)\n",
        "\n",
        "word_index = tokenizer.word_index\n",
        "vocab_size=len(word_index)\n",
        "print('Original Size of Vocabulary: ',vocab_size)\n",
        "\n",
        "word_index = {e:i for e,i in word_index.items() if i <= vocab_len+1} #Reducing the Size of Vocabulary\n",
        "print('New Size of Vocabulary: ',len(word_index))\n",
        "\n",
        "sequences = tokenizer.texts_to_sequences(sentences)\n",
        "padded = pad_sequences(sequences, maxlen=max_length, padding=padding_type, truncating=trunc_type)\n",
        "\n",
        "train_sequences = tokenizer.texts_to_sequences(train_sentences)\n",
        "train_padded = pad_sequences(train_sequences, maxlen=max_length, padding=padding_type, truncating=trunc_type)\n",
        "\n",
        "test_sequences = tokenizer.texts_to_sequences(test_sentences)\n",
        "test_padded = pad_sequences(test_sequences, maxlen=max_length, padding=padding_type, truncating=trunc_type)\n",
        "\n",
        "#Label Encoding the labels\n",
        "from sklearn import preprocessing\n",
        "le = preprocessing.LabelEncoder()\n",
        "le.fit(train_labels)\n",
        "train_labels=le.transform(train_labels) \n",
        "le.fit(test_labels)\n",
        "test_labels=le.transform(test_labels) \n",
        "le.fit(labels)\n",
        "labels=le.transform(labels) \n",
        "\n",
        "train_labels=np.expand_dims(train_labels, axis=1)\n",
        "test_labels=np.expand_dims(test_labels, axis=1)\n",
        "labels=np.expand_dims(labels, axis=1)\n"
      ],
      "execution_count": null,
      "outputs": [
        {
          "output_type": "stream",
          "text": [
            "Original Size of Vocabulary:  96787\n",
            "New Size of Vocabulary:  20000\n"
          ],
          "name": "stdout"
        },
        {
          "output_type": "stream",
          "text": [
            "/usr/local/lib/python3.6/dist-packages/sklearn/preprocessing/label.py:219: DataConversionWarning: A column-vector y was passed when a 1d array was expected. Please change the shape of y to (n_samples, ), for example using ravel().\n",
            "  y = column_or_1d(y, warn=True)\n",
            "/usr/local/lib/python3.6/dist-packages/sklearn/preprocessing/label.py:252: DataConversionWarning: A column-vector y was passed when a 1d array was expected. Please change the shape of y to (n_samples, ), for example using ravel().\n",
            "  y = column_or_1d(y, warn=True)\n"
          ],
          "name": "stderr"
        }
      ]
    },
    {
      "cell_type": "code",
      "metadata": {
        "id": "Sx1w1MOg8c82",
        "colab": {
          "base_uri": "https://localhost:8080/",
          "height": 119
        },
        "outputId": "5ed55faa-fab2-465d-8da6-73e61133a07c"
      },
      "source": [
        "#Dimension of Data after Tokenizing and Padding\n",
        "print('Dimension of Training Data: ',train_padded.shape)\n",
        "print('Dimension of Test Data: ',test_padded.shape)\n",
        "print('Dimension of Training Labels: ',train_labels.shape)\n",
        "print('Dimension of Test Labels: ',test_labels.shape)\n",
        "print('Dimension of Data: ',padded.shape)\n",
        "print('Dimension of Labels: ',labels.shape)"
      ],
      "execution_count": null,
      "outputs": [
        {
          "output_type": "stream",
          "text": [
            "Dimension of Training Data:  (7807, 900)\n",
            "Dimension of Test Data:  (868, 900)\n",
            "Dimension of Training Labels:  (7807, 1)\n",
            "Dimension of Test Labels:  (868, 1)\n",
            "Dimension of Data:  (8675, 900)\n",
            "Dimension of Labels:  (8675, 1)\n"
          ],
          "name": "stdout"
        }
      ]
    },
    {
      "cell_type": "code",
      "metadata": {
        "id": "BeXjhK2CV1zu",
        "colab": {
          "base_uri": "https://localhost:8080/",
          "height": 34
        },
        "outputId": "2cb81467-7b77-4155-9a53-e3492892e0a2"
      },
      "source": [
        "# Run this cell to mount your Google Drive.\n",
        "from google.colab import drive\n",
        "drive.mount('/content/drive')"
      ],
      "execution_count": null,
      "outputs": [
        {
          "output_type": "stream",
          "text": [
            "Drive already mounted at /content/drive; to attempt to forcibly remount, call drive.mount(\"/content/drive\", force_remount=True).\n"
          ],
          "name": "stdout"
        }
      ]
    },
    {
      "cell_type": "code",
      "metadata": {
        "id": "ugBgDP4z9R7x"
      },
      "source": [
        "# Unzipping the fasttext pretrained model from Google Drive\n",
        "import os\n",
        "import zipfile\n",
        "\n",
        "local_zip='/content/drive/My Drive/crawl-300d-2M.vec.zip'\n",
        "zip_ref=zipfile.ZipFile(local_zip,'r')\n",
        "zip_ref.extractall('/content/drive/My Drive/crawl-300d-2M.vec')\n",
        "zip_ref.close()"
      ],
      "execution_count": null,
      "outputs": []
    },
    {
      "cell_type": "code",
      "metadata": {
        "id": "cMQS3yqPYhhJ"
      },
      "source": [
        "# Loading the pretrained vectors\n",
        "embeddings_index = {}\n",
        "import numpy as np\n",
        "with open('/content/drive/My Drive/crawl-300d-2M.vec/crawl-300d-2M.vec') as f:\n",
        "    for line in f:\n",
        "        values = line.split()\n",
        "        word = values[0]\n",
        "        coefs = np.asarray(values[1:], dtype='float32')\n",
        "        embeddings_index[word] = coefs"
      ],
      "execution_count": null,
      "outputs": []
    },
    {
      "cell_type": "code",
      "metadata": {
        "id": "bbQgAn_pYW0X"
      },
      "source": [
        "# Creating an embedding matrix that contains the vectors of the words in the MBTI dataset\n",
        "embeddings_matrix = np.zeros((vocab_len+2, embedding_dim))\n",
        "for word, i in word_index.items():\n",
        "    embedding_vector = embeddings_index.get(word)\n",
        "    if embedding_vector is not None:\n",
        "        embeddings_matrix[i] = embedding_vector\n",
        "        "
      ],
      "execution_count": null,
      "outputs": []
    },
    {
      "cell_type": "code",
      "metadata": {
        "id": "6wWKJ3nrfTYn",
        "colab": {
          "base_uri": "https://localhost:8080/",
          "height": 34
        },
        "outputId": "91edb998-e317-46a0-8576-4ff9a147643a"
      },
      "source": [
        "#embeddings_matrix=np.delete(embeddings_matrix, 1, 0)\n",
        "embeddings_matrix.shape"
      ],
      "execution_count": null,
      "outputs": [
        {
          "output_type": "execute_result",
          "data": {
            "text/plain": [
              "(15000, 300)"
            ]
          },
          "metadata": {
            "tags": []
          },
          "execution_count": 95
        }
      ]
    },
    {
      "cell_type": "code",
      "metadata": {
        "id": "xQ7VHN4Of6tX",
        "colab": {
          "base_uri": "https://localhost:8080/",
          "height": 34
        },
        "outputId": "3f47b81b-e2bf-4fb8-db94-504203875968"
      },
      "source": [
        "print('Shape of embeddings matrix: ',embeddings_matrix.shape)"
      ],
      "execution_count": null,
      "outputs": [
        {
          "output_type": "stream",
          "text": [
            "Shape of embeddings matrix:  (15000, 300)\n"
          ],
          "name": "stdout"
        }
      ]
    },
    {
      "cell_type": "markdown",
      "metadata": {
        "id": "1yjjprIgO69Q"
      },
      "source": [
        "# Convolutional Neural Network (CNN)"
      ]
    },
    {
      "cell_type": "code",
      "metadata": {
        "id": "uUSqC6Rwg2R-"
      },
      "source": [
        "#from keras.regularizers import l2\n",
        "#Building the CNN Model\n",
        "model_conv = tf.keras.Sequential([\n",
        "    #tf.keras.layers.Embedding(vocab_len+1, embedding_dim, input_length=max_length, weights = [embeddings_matrix], trainable = False),\n",
        "    tf.keras.layers.Embedding(vocab_len+1, embedding_dim, input_length=max_length),\n",
        "    tf.keras.layers.Conv1D(64,3,activation='relu'),\n",
        "    tf.keras.layers.MaxPooling1D(2),\n",
        "    tf.keras.layers.Conv1D(128,3,activation='relu'),\n",
        "    tf.keras.layers.MaxPooling1D(2),\n",
        "    tf.keras.layers.Dropout(0.2),\n",
        "    tf.keras.layers.Flatten(),\n",
        "    #tf.keras.layers.Bidirectional(tf.keras.layers.LSTM(64)),\n",
        "    tf.keras.layers.Dense(128, activation='relu'),\n",
        "    tf.keras.layers.Dropout(0.2),\n",
        "    tf.keras.layers.Dense(16, activation='softmax')\n",
        "])"
      ],
      "execution_count": null,
      "outputs": []
    },
    {
      "cell_type": "code",
      "metadata": {
        "id": "UwIlRYdKhJKb",
        "colab": {
          "base_uri": "https://localhost:8080/",
          "height": 493
        },
        "outputId": "693dbe34-db0d-4fa5-d95d-574556804228"
      },
      "source": [
        "model_conv.summary()"
      ],
      "execution_count": null,
      "outputs": [
        {
          "output_type": "stream",
          "text": [
            "Model: \"sequential_5\"\n",
            "_________________________________________________________________\n",
            "Layer (type)                 Output Shape              Param #   \n",
            "=================================================================\n",
            "embedding_5 (Embedding)      (None, 900, 300)          6000000   \n",
            "_________________________________________________________________\n",
            "conv1d_10 (Conv1D)           (None, 898, 64)           57664     \n",
            "_________________________________________________________________\n",
            "max_pooling1d_10 (MaxPooling (None, 449, 64)           0         \n",
            "_________________________________________________________________\n",
            "conv1d_11 (Conv1D)           (None, 447, 128)          24704     \n",
            "_________________________________________________________________\n",
            "max_pooling1d_11 (MaxPooling (None, 223, 128)          0         \n",
            "_________________________________________________________________\n",
            "dropout_8 (Dropout)          (None, 223, 128)          0         \n",
            "_________________________________________________________________\n",
            "flatten_5 (Flatten)          (None, 28544)             0         \n",
            "_________________________________________________________________\n",
            "dense_10 (Dense)             (None, 128)               3653760   \n",
            "_________________________________________________________________\n",
            "dropout_9 (Dropout)          (None, 128)               0         \n",
            "_________________________________________________________________\n",
            "dense_11 (Dense)             (None, 16)                2064      \n",
            "=================================================================\n",
            "Total params: 9,738,192\n",
            "Trainable params: 9,738,192\n",
            "Non-trainable params: 0\n",
            "_________________________________________________________________\n"
          ],
          "name": "stdout"
        }
      ]
    },
    {
      "cell_type": "code",
      "metadata": {
        "id": "Fx-ECQZShTAF",
        "colab": {
          "base_uri": "https://localhost:8080/",
          "height": 374
        },
        "outputId": "8a53fab9-57d5-48b0-b93d-402d8f1b9b36"
      },
      "source": [
        "model_conv.compile(loss='sparse_categorical_crossentropy',optimizer='adam',metrics=['accuracy'])\n",
        "num_epochs = 10\n",
        "history=model_conv.fit(train_padded, train_labels, epochs=num_epochs, validation_split=0.2)"
      ],
      "execution_count": null,
      "outputs": [
        {
          "output_type": "stream",
          "text": [
            "Train on 6245 samples, validate on 1562 samples\n",
            "Epoch 1/10\n",
            "6245/6245 [==============================] - 7s 1ms/sample - loss: 2.1773 - acc: 0.2802 - val_loss: 1.8369 - val_acc: 0.4725\n",
            "Epoch 2/10\n",
            "6245/6245 [==============================] - 6s 961us/sample - loss: 1.5278 - acc: 0.5520 - val_loss: 1.6457 - val_acc: 0.5134\n",
            "Epoch 3/10\n",
            "6245/6245 [==============================] - 6s 966us/sample - loss: 0.8086 - acc: 0.7620 - val_loss: 1.7981 - val_acc: 0.5256\n",
            "Epoch 4/10\n",
            "6245/6245 [==============================] - 6s 967us/sample - loss: 0.3371 - acc: 0.8985 - val_loss: 2.2557 - val_acc: 0.5314\n",
            "Epoch 5/10\n",
            "6245/6245 [==============================] - 6s 964us/sample - loss: 0.1611 - acc: 0.9521 - val_loss: 2.6057 - val_acc: 0.5186\n",
            "Epoch 6/10\n",
            "6245/6245 [==============================] - 6s 961us/sample - loss: 0.0980 - acc: 0.9721 - val_loss: 3.1777 - val_acc: 0.5102\n",
            "Epoch 7/10\n",
            "6245/6245 [==============================] - 6s 961us/sample - loss: 0.0734 - acc: 0.9773 - val_loss: 4.0419 - val_acc: 0.5403\n",
            "Epoch 8/10\n",
            "6245/6245 [==============================] - 6s 963us/sample - loss: 0.0523 - acc: 0.9851 - val_loss: 3.7619 - val_acc: 0.5205\n",
            "Epoch 9/10\n",
            "6245/6245 [==============================] - 6s 962us/sample - loss: 0.0545 - acc: 0.9816 - val_loss: 4.0003 - val_acc: 0.5230\n",
            "Epoch 10/10\n",
            "6245/6245 [==============================] - 6s 964us/sample - loss: 0.0539 - acc: 0.9832 - val_loss: 3.7039 - val_acc: 0.5365\n"
          ],
          "name": "stdout"
        }
      ]
    },
    {
      "cell_type": "code",
      "metadata": {
        "id": "N8kCEltcwhkX",
        "colab": {
          "base_uri": "https://localhost:8080/",
          "height": 607
        },
        "outputId": "65a9e8a1-b685-4f50-909f-01c28a0e2b22"
      },
      "source": [
        "import matplotlib.pyplot as plt\n",
        "\n",
        "\n",
        "acc=history.history['acc']\n",
        "val_acc=history.history['val_acc']\n",
        "loss=history.history['loss']\n",
        "val_loss=history.history['val_loss']\n",
        "\n",
        "epochs=range(len(acc)) # Get number of epochs\n",
        "\n",
        "plt.plot(epochs, acc, 'r')\n",
        "plt.plot(epochs, val_acc, 'b')\n",
        "plt.title('Training and validation accuracy')\n",
        "plt.xlabel(\"Epochs\")\n",
        "plt.ylabel(\"Accuracy\")\n",
        "plt.legend([\"Accuracy\", \"Validation Accuracy\"])\n",
        "\n",
        "plt.figure()\n",
        "\n",
        "plt.plot(epochs, loss, 'r')\n",
        "plt.plot(epochs, val_loss, 'b')\n",
        "plt.title('Training and validation loss')\n",
        "plt.xlabel(\"Epochs\")\n",
        "plt.ylabel(\"Loss\")\n",
        "plt.legend([\"Loss\", \"Validation Loss\"])\n",
        "\n",
        "plt.figure()"
      ],
      "execution_count": null,
      "outputs": [
        {
          "output_type": "execute_result",
          "data": {
            "text/plain": [
              "<Figure size 432x288 with 0 Axes>"
            ]
          },
          "metadata": {
            "tags": []
          },
          "execution_count": 40
        },
        {
          "output_type": "display_data",
          "data": {
            "image/png": "[encoded data removed]",
            "text/plain": [
              "<Figure size 432x288 with 1 Axes>"
            ]
          },
          "metadata": {
            "tags": []
          }
        },
        {
          "output_type": "display_data",
          "data": {
            "image/png": "[encoded data removed]",
            "text/plain": [
              "<Figure size 432x288 with 1 Axes>"
            ]
          },
          "metadata": {
            "tags": []
          }
        },
        {
          "output_type": "display_data",
          "data": {
            "text/plain": [
              "<Figure size 432x288 with 0 Axes>"
            ]
          },
          "metadata": {
            "tags": []
          }
        }
      ]
    },
    {
      "cell_type": "markdown",
      "metadata": {
        "id": "dXyqIMbKwJPC"
      },
      "source": [
        "# **We can see that while the training  accuracy is close to 100%, validation accuracy is just around 50%. Lets find out why!**"
      ]
    },
    {
      "cell_type": "code",
      "metadata": {
        "id": "VFPVmUOmMr4a",
        "colab": {
          "base_uri": "https://localhost:8080/",
          "height": 51
        },
        "outputId": "101dced8-0ae1-48df-debf-765afe6ac7a1"
      },
      "source": [
        "score, acc = model_conv.evaluate(test_padded, test_labels, verbose=2)\n",
        "print('Test accuracy:', acc)"
      ],
      "execution_count": null,
      "outputs": [
        {
          "output_type": "stream",
          "text": [
            "868/868 - 0s - loss: 3.8134 - acc: 0.5300\n",
            "Test accuracy: 0.5299539\n"
          ],
          "name": "stdout"
        }
      ]
    },
    {
      "cell_type": "code",
      "metadata": {
        "id": "m-EupBBj5wiU"
      },
      "source": [
        "pred_prob_test_labels=model_conv.predict(test_padded)\n",
        "\n",
        "pred_test_labels=[]\n",
        "for i in range(len(pred_prob_test_labels)):\n",
        "  pred_test_labels.append(np.argmax(pred_prob_test_labels[i]))  "
      ],
      "execution_count": null,
      "outputs": []
    },
    {
      "cell_type": "code",
      "metadata": {
        "id": "yA3Qi13o6pLr"
      },
      "source": [
        "pred_test_labels=np.array(pred_test_labels)\n",
        "true_test_labels=np.squeeze(test_labels, axis=1)"
      ],
      "execution_count": null,
      "outputs": []
    },
    {
      "cell_type": "code",
      "metadata": {
        "id": "TJymQycsNaXJ",
        "colab": {
          "base_uri": "https://localhost:8080/",
          "height": 34
        },
        "outputId": "9bbe915d-c265-4cd7-89a3-a550e48378c3"
      },
      "source": [
        "from sklearn.metrics import cohen_kappa_score\n",
        "cohen_score = cohen_kappa_score(true_test_labels, pred_test_labels)\n",
        "print('Cohen Score: ',cohen_score)"
      ],
      "execution_count": null,
      "outputs": [
        {
          "output_type": "stream",
          "text": [
            "Cohen Score:  0.4052703219392827\n"
          ],
          "name": "stdout"
        }
      ]
    },
    {
      "cell_type": "code",
      "metadata": {
        "id": "9NdcMgsL_0bD",
        "colab": {
          "base_uri": "https://localhost:8080/",
          "height": 458
        },
        "outputId": "db170157-2279-42d8-ea33-8a8ffc2c7d4d"
      },
      "source": [
        "from sklearn.metrics import confusion_matrix\n",
        "def plot_confusion_matrix(y_true, y_pred, classes,\n",
        "                          normalize=False,\n",
        "                          title=None,\n",
        "                          cmap=plt.cm.Blues):\n",
        "    \"\"\"\n",
        "    This function prints and plots the confusion matrix.\n",
        "    Normalization can be applied by setting `normalize=True`.\n",
        "    \"\"\"\n",
        "    if not title:\n",
        "        if normalize:\n",
        "            title = 'Normalized confusion matrix'\n",
        "        else:\n",
        "            title = 'Confusion matrix'\n",
        "\n",
        "    # Compute confusion matrix\n",
        "    cm = confusion_matrix(y_true, y_pred)\n",
        "    # Only use the labels that appear in the data\n",
        "    #classes = classes[unique_labels(y_true, y_pred)]\n",
        "    \"\"\"if normalize:\n",
        "        cm = cm.astype('float') / cm.sum(axis=1)[:, np.newaxis]\n",
        "        print(\"Normalized confusion matrix\")\n",
        "    else:\n",
        "        print('Confusion matrix, without normalization')\n",
        "\n",
        "    print(cm)\"\"\"\n",
        "\n",
        "    fig, ax = plt.subplots(figsize=(8, 6))\n",
        "    im = ax.imshow(cm, interpolation='nearest', cmap=cmap)\n",
        "    ax.figure.colorbar(im, ax=ax)\n",
        "    # We want to show all ticks...\n",
        "    ax.set(xticks=np.arange(cm.shape[1]),\n",
        "           yticks=np.arange(cm.shape[0]),\n",
        "           # ... and label them with the respective list entries\n",
        "           xticklabels=classes, yticklabels=classes,\n",
        "           title=title,\n",
        "           ylabel='True label',\n",
        "           xlabel='Predicted label')\n",
        "\n",
        "    # Rotate the tick labels and set their alignment.\n",
        "    plt.setp(ax.get_xticklabels(), rotation=90, ha=\"right\",\n",
        "             rotation_mode=\"anchor\")\n",
        "\n",
        "    # Loop over data dimensions and create text annotations.\n",
        "    fmt = '.2f' if normalize else 'd'\n",
        "    thresh = cm.max() / 2.\n",
        "    for i in range(cm.shape[0]):\n",
        "        for j in range(cm.shape[1]):\n",
        "            ax.text(j, i, format(cm[i, j], fmt),\n",
        "                    ha=\"center\", va=\"center\",\n",
        "                    color=\"white\" if cm[i, j] > thresh else \"black\")\n",
        "\n",
        "    fig.tight_layout()\n",
        "    return ax\n",
        "\n",
        "\n",
        "np.set_printoptions(precision=2)\n",
        "\n",
        "# Plot non-normalized confusion matrix\n",
        "plot_confusion_matrix(true_test_labels, pred_test_labels, classes=df['type'].unique(),\n",
        "                      title='Confusion Matrix')\n"
      ],
      "execution_count": null,
      "outputs": [
        {
          "output_type": "execute_result",
          "data": {
            "text/plain": [
              "<matplotlib.axes._subplots.AxesSubplot at 0x7ff0f5513780>"
            ]
          },
          "metadata": {
            "tags": []
          },
          "execution_count": 50
        },
        {
          "output_type": "display_data",
          "data": {
            "image/png": "[encoded data removed]",
            "text/plain": [
              "<Figure size 576x432 with 2 Axes>"
            ]
          },
          "metadata": {
            "tags": []
          }
        }
      ]
    },
    {
      "cell_type": "code",
      "metadata": {
        "id": "gdcdRHJDtT6Q",
        "colab": {
          "base_uri": "https://localhost:8080/",
          "height": 328
        },
        "outputId": "a447c8ec-0443-40ea-8695-f12271f1b152"
      },
      "source": [
        "%matplotlib inline\n",
        "\n",
        "y=df['type'].value_counts()\n",
        "x=df['type'].unique()\n",
        "plt.bar(x, y, width=0.8, bottom=None, align='center', data=df)\n",
        "plt.xticks(rotation='vertical')\n",
        "plt.xlabel('Personality Types')\n",
        "plt.ylabel('Number of Persons')\n",
        "plt.title('Personality Types Distribution')"
      ],
      "execution_count": null,
      "outputs": [
        {
          "output_type": "execute_result",
          "data": {
            "text/plain": [
              "Text(0.5, 1.0, 'Personality Types Distribution')"
            ]
          },
          "metadata": {
            "tags": []
          },
          "execution_count": 51
        },
        {
          "output_type": "display_data",
          "data": {
            "image/png": "[encoded data removed]",
            "text/plain": [
              "<Figure size 432x288 with 1 Axes>"
            ]
          },
          "metadata": {
            "tags": []
          }
        }
      ]
    },
    {
      "cell_type": "markdown",
      "metadata": {
        "id": "Wm11a7cCxiI5"
      },
      "source": [
        "# **It is apparent from the graph above that there is severe class imbalance problem with the dataset.**"
      ]
    },
    {
      "cell_type": "markdown",
      "metadata": {
        "id": "OgWokaoqOqI_"
      },
      "source": [
        "**Let us try a sampling technique to remove class imbalance**"
      ]
    },
    {
      "cell_type": "code",
      "metadata": {
        "id": "xcK_1m3Lx3Fb",
        "colab": {
          "base_uri": "https://localhost:8080/",
          "height": 122
        },
        "outputId": "286957d4-98b1-483c-d6ca-5a53183771a2"
      },
      "source": [
        "from imblearn.over_sampling import SMOTE\n",
        "#Over-sampling: SMOTE\n",
        "#SMOTE (Synthetic Minority Oversampling TEchnique) consists of synthesizing elements for the minority class, \n",
        "#based on those that already exist. It works randomly picking a point from the minority class and computing \n",
        "#the k-nearest neighbors for this point.The synthetic points are added between the chosen point and its neighbors.\n",
        "#We'll use ratio='minority' to resample the minority class.\n",
        "smote = SMOTE('minority')\n",
        "\n",
        "X_sm, y_sm = smote.fit_sample(train_padded, train_labels)\n",
        "print(X_sm.shape, y_sm.shape)"
      ],
      "execution_count": null,
      "outputs": [
        {
          "output_type": "stream",
          "text": [
            "(9427, 900) (9427,)\n"
          ],
          "name": "stdout"
        },
        {
          "output_type": "stream",
          "text": [
            "/usr/local/lib/python3.6/dist-packages/sklearn/externals/six.py:31: DeprecationWarning: The module is deprecated in version 0.21 and will be removed in version 0.23 since we've dropped support for Python 2.7. Please rely on the official version of six (https://pypi.org/project/six/).\n",
            "  \"(https://pypi.org/project/six/).\", DeprecationWarning)\n",
            "/usr/local/lib/python3.6/dist-packages/sklearn/utils/validation.py:724: DataConversionWarning: A column-vector y was passed when a 1d array was expected. Please change the shape of y to (n_samples, ), for example using ravel().\n",
            "  y = column_or_1d(y, warn=True)\n"
          ],
          "name": "stderr"
        }
      ]
    },
    {
      "cell_type": "code",
      "metadata": {
        "id": "S16Hcg12OnlL",
        "colab": {
          "base_uri": "https://localhost:8080/",
          "height": 714
        },
        "outputId": "a572caf0-7551-4e45-8e85-4ee8f5fb6e49"
      },
      "source": [
        "from sklearn.utils import class_weight\n",
        "class_weight = class_weight.compute_class_weight('balanced' ,np.unique(train_labels) ,np.squeeze(train_labels, axis=1))\n",
        "history= model_conv.fit(X_sm, y_sm,\n",
        "                    epochs=20,\n",
        "                    verbose=2,\n",
        "                    validation_split=0.2)"
      ],
      "execution_count": null,
      "outputs": [
        {
          "output_type": "stream",
          "text": [
            "Train on 7541 samples, validate on 1886 samples\n",
            "Epoch 1/20\n",
            "7541/7541 - 7s - loss: 0.5263 - acc: 0.8862 - val_loss: 7.7465 - val_acc: 0.0753\n",
            "Epoch 2/20\n",
            "7541/7541 - 7s - loss: 0.1217 - acc: 0.9653 - val_loss: 11.4337 - val_acc: 0.0695\n",
            "Epoch 3/20\n",
            "7541/7541 - 7s - loss: 0.0432 - acc: 0.9883 - val_loss: 11.8872 - val_acc: 0.0737\n",
            "Epoch 4/20\n",
            "7541/7541 - 7s - loss: 0.0281 - acc: 0.9932 - val_loss: 13.1709 - val_acc: 0.0668\n",
            "Epoch 5/20\n",
            "7541/7541 - 7s - loss: 0.0226 - acc: 0.9923 - val_loss: 12.7929 - val_acc: 0.0758\n",
            "Epoch 6/20\n",
            "7541/7541 - 7s - loss: 0.0336 - acc: 0.9895 - val_loss: 12.7514 - val_acc: 0.0716\n",
            "Epoch 7/20\n",
            "7541/7541 - 7s - loss: 0.0392 - acc: 0.9881 - val_loss: 13.8635 - val_acc: 0.0705\n",
            "Epoch 8/20\n",
            "7541/7541 - 7s - loss: 0.0505 - acc: 0.9817 - val_loss: 12.2858 - val_acc: 0.0764\n",
            "Epoch 9/20\n",
            "7541/7541 - 7s - loss: 0.0540 - acc: 0.9818 - val_loss: 16.9328 - val_acc: 0.0710\n",
            "Epoch 10/20\n",
            "7541/7541 - 7s - loss: 0.0609 - acc: 0.9814 - val_loss: 14.3839 - val_acc: 0.0732\n",
            "Epoch 11/20\n",
            "7541/7541 - 7s - loss: 0.0519 - acc: 0.9851 - val_loss: 16.7826 - val_acc: 0.0732\n",
            "Epoch 12/20\n",
            "7541/7541 - 7s - loss: 0.0407 - acc: 0.9882 - val_loss: 18.8754 - val_acc: 0.0689\n",
            "Epoch 13/20\n",
            "7541/7541 - 7s - loss: 0.0242 - acc: 0.9936 - val_loss: 19.0800 - val_acc: 0.0710\n",
            "Epoch 14/20\n",
            "7541/7541 - 7s - loss: 0.0285 - acc: 0.9912 - val_loss: 19.9080 - val_acc: 0.0726\n",
            "Epoch 15/20\n",
            "7541/7541 - 7s - loss: 0.0471 - acc: 0.9851 - val_loss: 18.5805 - val_acc: 0.0710\n",
            "Epoch 16/20\n",
            "7541/7541 - 7s - loss: 0.0274 - acc: 0.9907 - val_loss: 20.9661 - val_acc: 0.0769\n",
            "Epoch 17/20\n",
            "7541/7541 - 7s - loss: 0.0613 - acc: 0.9816 - val_loss: 19.3116 - val_acc: 0.0721\n",
            "Epoch 18/20\n",
            "7541/7541 - 7s - loss: 0.0381 - acc: 0.9887 - val_loss: 16.9226 - val_acc: 0.0721\n",
            "Epoch 19/20\n",
            "7541/7541 - 7s - loss: 0.0276 - acc: 0.9922 - val_loss: 18.1430 - val_acc: 0.0695\n",
            "Epoch 20/20\n",
            "7541/7541 - 7s - loss: 0.0244 - acc: 0.9907 - val_loss: 21.7861 - val_acc: 0.0769\n"
          ],
          "name": "stdout"
        }
      ]
    },
    {
      "cell_type": "code",
      "metadata": {
        "id": "s2lg_Xs8Tb33",
        "colab": {
          "base_uri": "https://localhost:8080/",
          "height": 51
        },
        "outputId": "537df9aa-7f4b-4e2e-abba-2f7ca60dfe07"
      },
      "source": [
        "score, acc = model_conv.evaluate(test_padded, test_labels, verbose=2)\n",
        "print('Test accuracy:', acc)"
      ],
      "execution_count": null,
      "outputs": [
        {
          "output_type": "stream",
          "text": [
            "868/868 - 0s - loss: 5.5961 - acc: 0.5449\n",
            "Test accuracy: 0.5449309\n"
          ],
          "name": "stdout"
        }
      ]
    },
    {
      "cell_type": "code",
      "metadata": {
        "id": "G5uA3eLrNt7z",
        "colab": {
          "base_uri": "https://localhost:8080/",
          "height": 34
        },
        "outputId": "ad4103f2-187a-4eb4-a7bb-4f27f155475d"
      },
      "source": [
        "pred_prob_test_labels_new=model_conv.predict(test_padded)\n",
        "\n",
        "pred_test_labels_new=[]\n",
        "for i in range(len(pred_prob_test_labels_new)):\n",
        "  pred_test_labels_new.append(np.argmax(pred_prob_test_labels_new[i]))  \n",
        "pred_test_labels_new=np.array(pred_test_labels_new)\n",
        "true_test_labels=np.squeeze(test_labels, axis=1)\n",
        "from sklearn.metrics import cohen_kappa_score\n",
        "cohen_score = cohen_kappa_score(true_test_labels, pred_test_labels_new)\n",
        "print('Cohen Score: ',cohen_score)"
      ],
      "execution_count": null,
      "outputs": [
        {
          "output_type": "stream",
          "text": [
            "Cohen Score:  0.4726585631076323\n"
          ],
          "name": "stdout"
        }
      ]
    },
    {
      "cell_type": "markdown",
      "metadata": {
        "id": "qrGF2OW3Xfe-"
      },
      "source": [
        "**We can see that after using a sampling technique, the validation accuracy was abysmal. However, the test accuracy improved by around 1.5% and Cohen score improved by around 7%**"
      ]
    },
    {
      "cell_type": "markdown",
      "metadata": {
        "id": "smjS6b4rease"
      },
      "source": [
        "**Let's try some traditional ML algorithms**"
      ]
    },
    {
      "cell_type": "markdown",
      "metadata": {
        "id": "6NgMZZaReiqq"
      },
      "source": [
        "# **Multinomial Naive Bayes Classifier**"
      ]
    },
    {
      "cell_type": "code",
      "metadata": {
        "id": "o56nhYtJZHyQ"
      },
      "source": [
        "from sklearn.feature_extraction.text import CountVectorizer\n",
        "from sklearn.feature_extraction.text import TfidfTransformer\n",
        "from sklearn.naive_bayes import MultinomialNB\n",
        "from sklearn.pipeline import Pipeline\n",
        "pipeline=Pipeline([('bow',CountVectorizer(analyzer=clean_text)),\n",
        "                   ('tfidf',TfidfTransformer()),\n",
        "                   ('classifier',MultinomialNB())\n",
        "                   ])\n"
      ],
      "execution_count": null,
      "outputs": []
    },
    {
      "cell_type": "code",
      "metadata": {
        "id": "SaQDK3lmcPXl",
        "colab": {
          "base_uri": "https://localhost:8080/",
          "height": 360
        },
        "outputId": "4b9c9bb1-8c17-42e3-9e01-835000c6c9a3"
      },
      "source": [
        "pipeline.fit(train_sentences,train_labels)"
      ],
      "execution_count": null,
      "outputs": [
        {
          "output_type": "stream",
          "text": [
            "/usr/local/lib/python3.6/dist-packages/sklearn/utils/validation.py:724: DataConversionWarning: A column-vector y was passed when a 1d array was expected. Please change the shape of y to (n_samples, ), for example using ravel().\n",
            "  y = column_or_1d(y, warn=True)\n"
          ],
          "name": "stderr"
        },
        {
          "output_type": "execute_result",
          "data": {
            "text/plain": [
              "Pipeline(memory=None,\n",
              "         steps=[('bow',\n",
              "                 CountVectorizer(analyzer=<function clean_text at 0x7ff11a1e4158>,\n",
              "                                 binary=False, decode_error='strict',\n",
              "                                 dtype=<class 'numpy.int64'>, encoding='utf-8',\n",
              "                                 input='content', lowercase=True, max_df=1.0,\n",
              "                                 max_features=None, min_df=1,\n",
              "                                 ngram_range=(1, 1), preprocessor=None,\n",
              "                                 stop_words=None, strip_accents=None,\n",
              "                                 token_pattern='(?u)\\\\b\\\\w\\\\w+\\\\b',\n",
              "                                 tokenizer=None, vocabulary=None)),\n",
              "                ('tfidf',\n",
              "                 TfidfTransformer(norm='l2', smooth_idf=True,\n",
              "                                  sublinear_tf=False, use_idf=True)),\n",
              "                ('classifier',\n",
              "                 MultinomialNB(alpha=1.0, class_prior=None, fit_prior=True))],\n",
              "         verbose=False)"
            ]
          },
          "metadata": {
            "tags": []
          },
          "execution_count": 58
        }
      ]
    },
    {
      "cell_type": "code",
      "metadata": {
        "id": "ukyDqcfGX5d_"
      },
      "source": [
        "pred=pipeline.predict(test_sentences)"
      ],
      "execution_count": null,
      "outputs": []
    },
    {
      "cell_type": "code",
      "metadata": {
        "id": "MRWPN6H4You9",
        "colab": {
          "base_uri": "https://localhost:8080/",
          "height": 34
        },
        "outputId": "69ac1048-1ad8-4712-964f-b53161277ff8"
      },
      "source": [
        "from sklearn.metrics import accuracy_score\n",
        "print('Test Accuracy using MultiNomial Naive Bayes Classifier: ',accuracy_score(test_labels,pred))"
      ],
      "execution_count": null,
      "outputs": [
        {
          "output_type": "stream",
          "text": [
            "Test Accuracy using MultiNomial Naive Bayes Classifier:  0.20622119815668202\n"
          ],
          "name": "stdout"
        }
      ]
    },
    {
      "cell_type": "markdown",
      "metadata": {
        "id": "zzhO7f9rh796"
      },
      "source": [
        "# **Support Vector Machines**"
      ]
    },
    {
      "cell_type": "code",
      "metadata": {
        "id": "CNlADbgPdRUM"
      },
      "source": [
        "from sklearn.svm import SVC\n",
        "pipeline=Pipeline([('bow',CountVectorizer(analyzer=clean_text)),\n",
        "                   ('tfidf',TfidfTransformer()),\n",
        "                   ('classifier',SVC())\n",
        "                   ])\n"
      ],
      "execution_count": null,
      "outputs": []
    },
    {
      "cell_type": "code",
      "metadata": {
        "id": "2sUVvI0-fwjC",
        "colab": {
          "base_uri": "https://localhost:8080/",
          "height": 122
        },
        "outputId": "3a6555df-7183-45c2-e7fb-8d25850b9c03"
      },
      "source": [
        "pipeline.fit(train_sentences,train_labels)\n",
        "pred=pipeline.predict(test_sentences)\n",
        "from sklearn.metrics import accuracy_score\n",
        "print('Test Accuracy using Support Vector Machines: ',accuracy_score(test_labels,pred))"
      ],
      "execution_count": null,
      "outputs": [
        {
          "output_type": "stream",
          "text": [
            "/usr/local/lib/python3.6/dist-packages/sklearn/utils/validation.py:724: DataConversionWarning: A column-vector y was passed when a 1d array was expected. Please change the shape of y to (n_samples, ), for example using ravel().\n",
            "  y = column_or_1d(y, warn=True)\n",
            "/usr/local/lib/python3.6/dist-packages/sklearn/svm/base.py:193: FutureWarning: The default value of gamma will change from 'auto' to 'scale' in version 0.22 to account better for unscaled features. Set gamma explicitly to 'auto' or 'scale' to avoid this warning.\n",
            "  \"avoid this warning.\", FutureWarning)\n"
          ],
          "name": "stderr"
        },
        {
          "output_type": "stream",
          "text": [
            "Test Accuracy using Support Vector Mchines:  0.20622119815668202\n"
          ],
          "name": "stdout"
        }
      ]
    },
    {
      "cell_type": "markdown",
      "metadata": {
        "id": "AXk0EQcjiEXc"
      },
      "source": [
        "# **Random Forests**"
      ]
    },
    {
      "cell_type": "code",
      "metadata": {
        "id": "WZ_xgaVdg0eg"
      },
      "source": [
        "from sklearn.ensemble import RandomForestClassifier\n",
        "pipeline=Pipeline([('bow',CountVectorizer(analyzer=clean_text)),\n",
        "                   ('tfidf',TfidfTransformer()),\n",
        "                   ('classifier',RandomForestClassifier(n_estimators=600))\n",
        "                   ])"
      ],
      "execution_count": null,
      "outputs": []
    },
    {
      "cell_type": "code",
      "metadata": {
        "id": "6Y2Ne8Cjifpc",
        "colab": {
          "base_uri": "https://localhost:8080/",
          "height": 88
        },
        "outputId": "f5739907-4c8b-4c78-8948-565d22ecdd3b"
      },
      "source": [
        "pipeline.fit(train_sentences,train_labels)\n",
        "pred=pipeline.predict(test_sentences)\n",
        "from sklearn.metrics import accuracy_score\n",
        "print('Test Accuracy using Random Forest Classifier: ',accuracy_score(test_labels,pred))"
      ],
      "execution_count": null,
      "outputs": [
        {
          "output_type": "stream",
          "text": [
            "/usr/local/lib/python3.6/dist-packages/sklearn/pipeline.py:356: DataConversionWarning: A column-vector y was passed when a 1d array was expected. Please change the shape of y to (n_samples,), for example using ravel().\n",
            "  self._final_estimator.fit(Xt, y, **fit_params)\n"
          ],
          "name": "stderr"
        },
        {
          "output_type": "stream",
          "text": [
            "Test Accuracy using Random Forest Classifier:  0.27880184331797236\n"
          ],
          "name": "stdout"
        }
      ]
    }
  ]
}